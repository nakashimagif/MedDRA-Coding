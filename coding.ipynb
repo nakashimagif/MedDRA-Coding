{
 "cells": [
  {
   "cell_type": "markdown",
   "metadata": {},
   "source": [
    "# Initilization"
   ]
  },
  {
   "cell_type": "code",
   "execution_count": null,
   "metadata": {
    "collapsed": true
   },
   "outputs": [],
   "source": [
    "# coding:utf-8\n",
    "%matplotlib inline\n",
    "#import sympy\n",
    "import scipy\n",
    "# init_session()\n",
    "import matplotlib.pyplot as plt\n",
    "import pandas as pd\n",
    "import numpy as np\n",
    "from numpy.random import *\n",
    "import itertools\n",
    "from itertools import chain, permutations\n",
    "import os\n",
    "import pickle\n",
    "import random\n",
    "seed(1234)"
   ]
  },
  {
   "cell_type": "code",
   "execution_count": 2,
   "metadata": {
    "collapsed": false
   },
   "outputs": [
    {
     "name": "stdout",
     "output_type": "stream",
     "text": [
      "distribution of number of words per AETERM\n",
      "data\n",
      " 1      573\n",
      "2     1869\n",
      "3     1558\n",
      "4      893\n",
      "5      259\n",
      "6       62\n",
      "7       20\n",
      "8        9\n",
      "9        2\n",
      "15       1\n",
      "Name: len, dtype: int64\n"
     ]
    }
   ],
   "source": [
    "import read_data\n",
    "df = read_data.read_data()\n",
    "\n",
    "\n",
    "def is_ascii(string):\n",
    "    \"\"\"return true if non ascii characters are detected in the given string\n",
    "    \"\"\"\n",
    "    if string:\n",
    "        return max([ord(char) for char in string]) < 128\n",
    "    return True\n",
    "\n",
    "\n",
    "def texts2list(texts):\n",
    "    stop_words = set('for a of the and to in by with'.split())\n",
    "    if type(texts) == list:\n",
    "        texts = pd.Series(texts)\n",
    "    texts = texts.str.lower().str.translate(str.maketrans('()', '  '))\n",
    "    texts = texts.str.strip()\n",
    "    textlist = [[\n",
    "        word for word in document.translate(\n",
    "            str.maketrans('\\'()[],.&?\"{}-_:;', '                ')).split()\n",
    "        if word not in stop_words\n",
    "    ] for document in texts]\n",
    "    return textlist\n",
    "\n",
    "\n",
    "#Select AE reported in English\n",
    "df = df[df['AEDECOD'].apply(is_ascii)]\n",
    "df['AETERM'] = df['AETERM'].str.lower()\n",
    "#drop duplicate\n",
    "df.drop_duplicates(inplace=True)\n",
    "df.reset_index(drop=True, inplace=True)\n",
    "\n",
    "#create coder and decoder\n",
    "pt = df['AEDECOD'].drop_duplicates()\n",
    "coder = {}\n",
    "for i, word in enumerate(pt):\n",
    "    coder.update({word: i})\n",
    "    i = i + 1\n",
    "decoder = dict([(pt, index) for index, pt in coder.items()])\n",
    "dest = os.path.join('.', 'data', 'coder.pkl')\n",
    "pickle.dump(coder, open(dest, 'wb'), protocol=4)\n",
    "\n",
    "\n",
    "def count_aeterm(df):\n",
    "    texts = texts2list(df['AETERM'])\n",
    "    check = [len(text) for text in texts]\n",
    "    df['len'] = check\n",
    "    print('distribution of number of words per AETERM')\n",
    "    print('data\\n', df['len'].value_counts().sort_index())\n",
    "\n",
    "\n",
    "count_aeterm(df)"
   ]
  },
  {
   "cell_type": "code",
   "execution_count": 3,
   "metadata": {
    "collapsed": false
   },
   "outputs": [
    {
     "name": "stderr",
     "output_type": "stream",
     "text": [
      "Using TensorFlow backend.\n"
     ]
    }
   ],
   "source": [
    "from keras.models import Model, Sequential\n",
    "from keras.engine import Input\n",
    "from keras.preprocessing.text import Tokenizer\n",
    "from keras.preprocessing.sequence import pad_sequences\n",
    "from keras.utils.np_utils import to_categorical\n",
    "from keras.layers import Dense, Input, LSTM, Activation, Dropout\n",
    "from keras.optimizers import SGD\n",
    "from keras.callbacks import EarlyStopping, CSVLogger\n",
    "from gensim.models import Word2Vec\n",
    "from sklearn.model_selection import train_test_split\n",
    "\n",
    "wikimodel = Word2Vec.load(\"./data/wiki.en.word2vec.model\")\n",
    "wvsize = wikimodel.vector_size\n",
    "MAX_WORDS = 5\n",
    "\n",
    "texts = texts2list(df['AETERM'])\n",
    "dictset = list(set(chain.from_iterable(texts)))\n",
    "wvdict = dict(\n",
    "    [(dic, wikimodel[dic]) for dic in dictset if dic in wikimodel.wv.vocab])"
   ]
  },
  {
   "cell_type": "code",
   "execution_count": 4,
   "metadata": {
    "collapsed": true
   },
   "outputs": [],
   "source": [
    "def texts2wv(texts):\n",
    "    wv = [\n",
    "        np.array([wvdict[word] for word in text if word in wvdict.keys()])\n",
    "        for text in texts\n",
    "    ]\n",
    "    nonull = [len(vector) for vector in wv]\n",
    "    x = [\n",
    "        np.array([\n",
    "            wvdict[word] for (i, word) in enumerate(text)\n",
    "            if word in wvdict.keys()\n",
    "        ]) for text in texts\n",
    "    ]\n",
    "    x_norm = [x[i][0:MAX_WORDS] for i in range(len(x))]\n",
    "    x_all = np.array([\n",
    "        np.append(x_norm[i].flat,\n",
    "                  np.zeros(wvsize * max(MAX_WORDS - len(x_norm[i]), 0)))\n",
    "        for i in range(len(x_norm))\n",
    "    ])\n",
    "    return x_all, nonull\n",
    "\n",
    "\n",
    "texts = texts2list(df['AETERM'])\n",
    "x_all, nonnull = texts2wv(texts)\n",
    "df['nonnull'] = nonnull\n",
    "df = df[df.nonnull > 0]\n",
    "df_all = df.copy()"
   ]
  },
  {
   "cell_type": "code",
   "execution_count": null,
   "metadata": {
    "collapsed": false
   },
   "outputs": [
    {
     "name": "stdout",
     "output_type": "stream",
     "text": [
      "Unique PT(#>=1):  1553\n",
      "Unique PT(#>=2):  721\n",
      "All Record\n",
      "distribution of number of words per AETERM\n",
      "data\n",
      " 1      429\n",
      "2     1858\n",
      "3     1557\n",
      "4      893\n",
      "5      259\n",
      "6       62\n",
      "7       20\n",
      "8        9\n",
      "9        2\n",
      "15       1\n",
      "Name: len, dtype: int64\n",
      "#AEDECOD>=2\n",
      "distribution of number of words per AETERM\n",
      "data\n",
      " 1      297\n",
      "2     1503\n",
      "3     1336\n",
      "4      815\n",
      "5      227\n",
      "6       54\n",
      "7       15\n",
      "8        8\n",
      "9        2\n",
      "15       1\n",
      "Name: len, dtype: int64\n"
     ]
    }
   ],
   "source": [
    "sizeflag = df_all.groupby(\"AEDECOD\").size().reset_index()\n",
    "sizeflag.columns = ['AEDECOD', 'AEDECOD_SIZE']\n",
    "df = pd.merge(df_all, sizeflag, on=\"AEDECOD\", how=\"left\")\n",
    "\n",
    "df.reset_index(drop=True, inplace=True)\n",
    "\n",
    "# Select AEDECOD which have 2 or more record\n",
    "df = df[df['AEDECOD_SIZE'] >= 2]\n",
    "df.reset_index(drop=True, inplace=True)\n",
    "\n",
    "print(\"Unique PT(#>=1): \", len(df_all[~df_all['AEDECOD'].duplicated()]))\n",
    "print(\"Unique PT(#>=2): \", len(df[~df['AEDECOD'].duplicated()]))\n",
    "\n",
    "\n",
    "def sampling(groupdf):\n",
    "    groupdf['target'] = np.append(\n",
    "        permutation(2), binomial(n=1, p=0.8, size=len(groupdf) - 2))\n",
    "    return groupdf\n",
    "\n",
    "\n",
    "# Data Split\n",
    "df = df.groupby(\"AEDECOD\").apply(sampling)\n",
    "\n",
    "print('All Record')\n",
    "count_aeterm(df_all)\n",
    "print('#AEDECOD>=2')\n",
    "count_aeterm(df)"
   ]
  },
  {
   "cell_type": "markdown",
   "metadata": {},
   "source": [
    "# Words Shuffling"
   ]
  },
  {
   "cell_type": "code",
   "execution_count": null,
   "metadata": {
    "collapsed": true
   },
   "outputs": [],
   "source": [
    "df_test = df.query('target==0')\n",
    "df_train = df.query('target==1')\n",
    "# Shuffle\n",
    "texts = texts2list(df_train['AETERM'])\n",
    "decods = df_train['AEDECOD']\n",
    "\n",
    "# All shuffled words\n",
    "# shuffled = []\n",
    "# shuffled = [ list(perm) + [decod,] for text, decod in zip(texts, decods) for perm in list(permutations(text,r=MAX_WORDS))]\n",
    "\n",
    "# Random sampling from shuffled words\n",
    "MAX_SEQ = 5\n",
    "shuffled = []\n",
    "for text, decod in zip(texts, decods):\n",
    "    #Number of permuations\n",
    "    pr = scipy.special.perm(len(text), min(MAX_WORDS, len(text)), exact=True)\n",
    "    #Sampling from shuffled words\n",
    "    perms = random.sample(\n",
    "        list(permutations(text, r=min(MAX_WORDS, len(text)))), min(pr, MAX_SEQ))\n",
    "    for perm in perms:\n",
    "        shuffled.append(list(perm) + [decod,])"
   ]
  },
  {
   "cell_type": "code",
   "execution_count": 7,
   "metadata": {
    "collapsed": true
   },
   "outputs": [],
   "source": [
    "y_train = [coder[pt[-1]] for pt in shuffled]\n",
    "y_train = to_categorical(y_train)\n",
    "x_train = [record[0:-1] for record in shuffled]\n",
    "x_train, nonnull = texts2wv(x_train)\n",
    "\n",
    "y_test = [coder[pt] for pt in df_test['AEDECOD']]\n",
    "y_test = to_categorical(y_test)\n",
    "x_test = texts2list(df_test['AETERM'])\n",
    "x_test, nonnull = texts2wv(x_test)"
   ]
  },
  {
   "cell_type": "code",
   "execution_count": 8,
   "metadata": {
    "collapsed": false
   },
   "outputs": [
    {
     "name": "stdout",
     "output_type": "stream",
     "text": [
      "length of y_train= 1524\n",
      "x_train_rnn.shape=, y_train.shape= (11124, 5, 400) (11124, 1524)\n",
      "x_test_rnn.shape= (11124, 5, 400)\n"
     ]
    },
    {
     "name": "stderr",
     "output_type": "stream",
     "text": [
      "/home/yo/.pyenv/versions/anaconda3-4.2.0/lib/python3.5/site-packages/ipykernel/__main__.py:28: UserWarning: Update your `Dense` call to the Keras 2 API: `Dense(1524, kernel_initializer=<function ...)`\n"
     ]
    },
    {
     "name": "stdout",
     "output_type": "stream",
     "text": [
      "_________________________________________________________________\n",
      "Layer (type)                 Output Shape              Param #   \n",
      "=================================================================\n",
      "bidirectional_1 (Bidirection (None, 200)               400800    \n",
      "_________________________________________________________________\n",
      "dense_1 (Dense)              (None, 1524)              306324    \n",
      "_________________________________________________________________\n",
      "activation_1 (Activation)    (None, 1524)              0         \n",
      "=================================================================\n",
      "Total params: 707,124\n",
      "Trainable params: 707,124\n",
      "Non-trainable params: 0\n",
      "_________________________________________________________________\n"
     ]
    },
    {
     "data": {
      "image/png": "[encoded data removed]",
      "text/plain": [
       "<matplotlib.figure.Figure at 0x7faf858926d8>"
      ]
     },
     "metadata": {},
     "output_type": "display_data"
    },
    {
     "name": "stdout",
     "output_type": "stream",
     "text": [
      "test loss: 2.9668670182\n",
      "test acc: 0.590694006497\n"
     ]
    }
   ],
   "source": [
    "from keras.layers.wrappers import Bidirectional\n",
    "from keras.layers import SimpleRNN\n",
    "from keras.optimizers import Adam\n",
    "\n",
    "n_hidden = 100\n",
    "n_out = len(y_train[0])\n",
    "\n",
    "x_train_rnn = x_train.reshape(len(x_train), MAX_WORDS, wvsize)\n",
    "x_test_rnn = x_test.reshape(len(x_test), MAX_WORDS, wvsize)\n",
    "\n",
    "print(\"length of y_train=\", n_out)\n",
    "print(\"x_train_rnn.shape=, y_train.shape=\", x_train_rnn.shape, y_train.shape)\n",
    "print(\"x_test_rnn.shape=\", x_train_rnn.shape)\n",
    "\n",
    "\n",
    "def weight_variable(shape, name=None):\n",
    "    return np.random.normal(scale=.01, size=shape)\n",
    "\n",
    "\n",
    "# model = Sequential()\n",
    "# model.add(Bidirectional(SimpleRNN(n_hidden),\n",
    "#                         input_shape=(MAX_WORDS, wvsize)))\n",
    "# model.add(Dense(n_out, init=weight_variable))\n",
    "# model.add(Activation('softmax'))\n",
    "\n",
    "model = Sequential()\n",
    "model.add(Bidirectional(LSTM(n_hidden), input_shape=(MAX_WORDS, wvsize)))\n",
    "model.add(Dense(n_out, init=weight_variable))\n",
    "model.add(Activation('softmax'))\n",
    "\n",
    "model.compile(\n",
    "    loss='categorical_crossentropy',\n",
    "    optimizer=Adam(lr=0.001, beta_1=0.9, beta_2=0.999),\n",
    "    metrics=['accuracy'])\n",
    "\n",
    "# model.compile(loss='categorical_crossentropy',\n",
    "#               optimizer=SGD(lr=0.1),\n",
    "#               metrics=['accuracy'])\n",
    "\n",
    "model.summary()\n",
    "\n",
    "es = EarlyStopping(monitor='val_loss', patience=2)\n",
    "csv_logger = CSVLogger('training.log')\n",
    "epochs = 50\n",
    "batch_size = 50\n",
    "\n",
    "hist = model.fit(\n",
    "    x_train_rnn,\n",
    "    y_train,\n",
    "    batch_size=batch_size,\n",
    "    epochs=epochs,\n",
    "    verbose=0,\n",
    "    validation_split=0.2)\n",
    "\n",
    "# plot results\n",
    "acc = hist.history['acc']\n",
    "val_acc = hist.history['val_acc']\n",
    "\n",
    "epochs = len(acc)\n",
    "plt.plot(range(epochs), acc, marker='.', label='acc')\n",
    "plt.plot(range(epochs), val_acc, marker='.', label='val_acc')\n",
    "plt.legend(loc='best')\n",
    "plt.grid()\n",
    "plt.xlabel('epoch')\n",
    "plt.ylabel('acc')\n",
    "plt.show()\n",
    "\n",
    "score = model.evaluate(x_test_rnn, y_test, verbose=0)\n",
    "print('test loss:', score[0])\n",
    "print('test acc:', score[1])"
   ]
  },
  {
   "cell_type": "code",
   "execution_count": 9,
   "metadata": {
    "collapsed": false
   },
   "outputs": [
    {
     "name": "stdout",
     "output_type": "stream",
     "text": [
      "_________________________________________________________________\n",
      "Layer (type)                 Output Shape              Param #   \n",
      "=================================================================\n",
      "dense_2 (Dense)              (None, 400)               800400    \n",
      "_________________________________________________________________\n",
      "dropout_1 (Dropout)          (None, 400)               0         \n",
      "_________________________________________________________________\n",
      "activation_2 (Activation)    (None, 400)               0         \n",
      "_________________________________________________________________\n",
      "dense_3 (Dense)              (None, 400)               160400    \n",
      "_________________________________________________________________\n",
      "dropout_2 (Dropout)          (None, 400)               0         \n",
      "_________________________________________________________________\n",
      "activation_3 (Activation)    (None, 400)               0         \n",
      "_________________________________________________________________\n",
      "dense_4 (Dense)              (None, 400)               160400    \n",
      "_________________________________________________________________\n",
      "dropout_3 (Dropout)          (None, 400)               0         \n",
      "_________________________________________________________________\n",
      "activation_4 (Activation)    (None, 400)               0         \n",
      "_________________________________________________________________\n",
      "dense_5 (Dense)              (None, 400)               160400    \n",
      "_________________________________________________________________\n",
      "dropout_4 (Dropout)          (None, 400)               0         \n",
      "_________________________________________________________________\n",
      "activation_5 (Activation)    (None, 400)               0         \n",
      "_________________________________________________________________\n",
      "dense_6 (Dense)              (None, 1524)              611124    \n",
      "_________________________________________________________________\n",
      "activation_6 (Activation)    (None, 1524)              0         \n",
      "=================================================================\n",
      "Total params: 1,892,724\n",
      "Trainable params: 1,892,724\n",
      "Non-trainable params: 0\n",
      "_________________________________________________________________\n",
      "Train on 10011 samples, validate on 1113 samples\n",
      "Epoch 1/50\n",
      "10011/10011 [==============================] - 0s - loss: 5.5811 - acc: 0.0532 - val_loss: 5.7400 - val_acc: 0.0288\n",
      "Epoch 2/50\n",
      "10011/10011 [==============================] - 0s - loss: 4.4868 - acc: 0.1382 - val_loss: 5.1428 - val_acc: 0.1527\n",
      "Epoch 3/50\n",
      "10011/10011 [==============================] - 0s - loss: 3.7391 - acc: 0.2381 - val_loss: 4.8093 - val_acc: 0.2525\n",
      "Epoch 4/50\n",
      "10011/10011 [==============================] - 0s - loss: 3.1290 - acc: 0.3273 - val_loss: 4.4719 - val_acc: 0.3145\n",
      "Epoch 5/50\n",
      "10011/10011 [==============================] - 0s - loss: 2.6799 - acc: 0.3952 - val_loss: 4.1878 - val_acc: 0.3702\n",
      "Epoch 6/50\n",
      "10011/10011 [==============================] - 0s - loss: 2.3787 - acc: 0.4305 - val_loss: 4.1123 - val_acc: 0.3729\n",
      "Epoch 7/50\n",
      "10011/10011 [==============================] - 0s - loss: 2.1134 - acc: 0.4743 - val_loss: 4.0722 - val_acc: 0.4079\n",
      "Epoch 8/50\n",
      "10011/10011 [==============================] - 0s - loss: 1.8789 - acc: 0.5192 - val_loss: 3.9583 - val_acc: 0.4340\n",
      "Epoch 9/50\n",
      "10011/10011 [==============================] - 0s - loss: 1.7347 - acc: 0.5421 - val_loss: 3.8994 - val_acc: 0.4178\n",
      "Epoch 10/50\n",
      "10011/10011 [==============================] - 0s - loss: 1.5694 - acc: 0.5790 - val_loss: 3.8984 - val_acc: 0.4286\n",
      "Epoch 11/50\n",
      "10011/10011 [==============================] - 0s - loss: 1.4394 - acc: 0.5982 - val_loss: 3.9453 - val_acc: 0.4555\n",
      "Epoch 12/50\n",
      "10011/10011 [==============================] - 0s - loss: 1.3368 - acc: 0.6243 - val_loss: 3.9082 - val_acc: 0.4672\n",
      "Epoch 13/50\n",
      "10011/10011 [==============================] - 0s - loss: 1.2592 - acc: 0.6418 - val_loss: 3.9328 - val_acc: 0.4717\n",
      "Epoch 14/50\n",
      "10011/10011 [==============================] - 0s - loss: 1.1552 - acc: 0.6690 - val_loss: 3.9116 - val_acc: 0.4735\n",
      "Epoch 15/50\n",
      "10011/10011 [==============================] - 0s - loss: 1.0873 - acc: 0.6818 - val_loss: 3.8709 - val_acc: 0.4672\n",
      "Epoch 16/50\n",
      "10011/10011 [==============================] - 0s - loss: 1.0462 - acc: 0.7003 - val_loss: 4.0331 - val_acc: 0.4780\n",
      "Epoch 17/50\n",
      "10011/10011 [==============================] - 0s - loss: 0.9868 - acc: 0.7080 - val_loss: 4.0323 - val_acc: 0.4672\n",
      "Epoch 18/50\n",
      "10011/10011 [==============================] - 0s - loss: 0.9531 - acc: 0.7198 - val_loss: 4.0156 - val_acc: 0.4924\n",
      "Epoch 19/50\n",
      "10011/10011 [==============================] - 0s - loss: 0.8911 - acc: 0.7364 - val_loss: 3.9259 - val_acc: 0.4951\n",
      "Epoch 20/50\n",
      "10011/10011 [==============================] - 0s - loss: 0.8452 - acc: 0.7455 - val_loss: 4.1380 - val_acc: 0.4735\n",
      "Epoch 21/50\n",
      "10011/10011 [==============================] - 0s - loss: 0.8108 - acc: 0.7533 - val_loss: 4.1880 - val_acc: 0.4879\n",
      "Epoch 22/50\n",
      "10011/10011 [==============================] - 0s - loss: 0.7930 - acc: 0.7612 - val_loss: 4.1092 - val_acc: 0.4816\n",
      "Epoch 23/50\n",
      "10011/10011 [==============================] - 0s - loss: 0.7804 - acc: 0.7603 - val_loss: 4.0379 - val_acc: 0.4978\n",
      "Epoch 24/50\n",
      "10011/10011 [==============================] - 0s - loss: 0.7318 - acc: 0.7829 - val_loss: 4.1838 - val_acc: 0.5121\n",
      "Epoch 25/50\n",
      "10011/10011 [==============================] - 0s - loss: 0.7041 - acc: 0.7876 - val_loss: 4.1173 - val_acc: 0.4906\n",
      "Epoch 26/50\n",
      "10011/10011 [==============================] - 0s - loss: 0.6712 - acc: 0.7957 - val_loss: 4.2143 - val_acc: 0.4924\n",
      "Epoch 27/50\n",
      "10011/10011 [==============================] - 0s - loss: 0.6686 - acc: 0.7988 - val_loss: 4.2199 - val_acc: 0.4870\n",
      "Epoch 28/50\n",
      "10011/10011 [==============================] - 0s - loss: 0.6427 - acc: 0.8030 - val_loss: 4.2059 - val_acc: 0.4897\n",
      "Epoch 29/50\n",
      "10011/10011 [==============================] - 0s - loss: 0.6520 - acc: 0.8013 - val_loss: 4.1958 - val_acc: 0.5049\n",
      "Epoch 30/50\n",
      "10011/10011 [==============================] - 0s - loss: 0.6203 - acc: 0.8109 - val_loss: 4.2052 - val_acc: 0.4843\n",
      "Epoch 31/50\n",
      "10011/10011 [==============================] - 0s - loss: 0.6091 - acc: 0.8146 - val_loss: 4.2490 - val_acc: 0.4915\n",
      "Epoch 32/50\n",
      "10011/10011 [==============================] - 0s - loss: 0.5944 - acc: 0.8168 - val_loss: 4.2399 - val_acc: 0.4798\n",
      "Epoch 33/50\n",
      "10011/10011 [==============================] - 0s - loss: 0.5725 - acc: 0.8243 - val_loss: 4.3781 - val_acc: 0.4960\n",
      "Epoch 34/50\n",
      "10011/10011 [==============================] - 0s - loss: 0.5591 - acc: 0.8292 - val_loss: 4.2181 - val_acc: 0.5121\n",
      "Epoch 35/50\n",
      "10011/10011 [==============================] - 0s - loss: 0.5562 - acc: 0.8287 - val_loss: 4.2383 - val_acc: 0.4996\n",
      "Epoch 36/50\n",
      "10011/10011 [==============================] - 0s - loss: 0.5297 - acc: 0.8345 - val_loss: 4.2819 - val_acc: 0.5013\n",
      "Epoch 37/50\n",
      "10011/10011 [==============================] - 0s - loss: 0.5363 - acc: 0.8334 - val_loss: 4.2971 - val_acc: 0.5058\n",
      "Epoch 38/50\n",
      "10011/10011 [==============================] - 0s - loss: 0.5086 - acc: 0.8409 - val_loss: 4.1587 - val_acc: 0.5184\n",
      "Epoch 39/50\n",
      "10011/10011 [==============================] - 0s - loss: 0.5099 - acc: 0.8404 - val_loss: 4.2545 - val_acc: 0.4942\n",
      "Epoch 40/50\n",
      "10011/10011 [==============================] - 0s - loss: 0.5217 - acc: 0.8403 - val_loss: 4.2342 - val_acc: 0.5067\n",
      "Epoch 41/50\n",
      "10011/10011 [==============================] - 0s - loss: 0.4946 - acc: 0.8508 - val_loss: 4.2660 - val_acc: 0.5229\n",
      "Epoch 42/50\n",
      "10011/10011 [==============================] - 0s - loss: 0.4808 - acc: 0.8529 - val_loss: 4.3014 - val_acc: 0.5175\n",
      "Epoch 43/50\n",
      "10011/10011 [==============================] - 0s - loss: 0.5038 - acc: 0.8431 - val_loss: 4.1619 - val_acc: 0.5229\n",
      "Epoch 44/50\n",
      "10011/10011 [==============================] - 0s - loss: 0.4797 - acc: 0.8549 - val_loss: 4.3268 - val_acc: 0.5184\n",
      "Epoch 45/50\n",
      "10011/10011 [==============================] - 0s - loss: 0.4578 - acc: 0.8550 - val_loss: 4.3140 - val_acc: 0.5139\n",
      "Epoch 46/50\n",
      "10011/10011 [==============================] - 0s - loss: 0.4744 - acc: 0.8551 - val_loss: 4.3111 - val_acc: 0.5337\n",
      "Epoch 47/50\n",
      "10011/10011 [==============================] - 0s - loss: 0.4475 - acc: 0.8600 - val_loss: 4.4711 - val_acc: 0.5148\n",
      "Epoch 48/50\n",
      "10011/10011 [==============================] - 0s - loss: 0.4602 - acc: 0.8612 - val_loss: 4.3728 - val_acc: 0.5193\n",
      "Epoch 49/50\n",
      "10011/10011 [==============================] - 0s - loss: 0.4558 - acc: 0.8620 - val_loss: 4.3377 - val_acc: 0.5247\n",
      "Epoch 50/50\n",
      "10011/10011 [==============================] - 0s - loss: 0.4365 - acc: 0.8667 - val_loss: 4.4077 - val_acc: 0.5130\n",
      "test loss: 3.61070847887\n",
      "test acc: 0.517350157917\n"
     ]
    },
    {
     "data": {
      "image/png": "[encoded data removed]",
      "text/plain": [
       "<matplotlib.figure.Figure at 0x7faf837d46d8>"
      ]
     },
     "metadata": {},
     "output_type": "display_data"
    }
   ],
   "source": [
    "n_in = len(x_train[0])\n",
    "n_hidden = 400\n",
    "n_out = len(y_train[0])\n",
    "dropout_rate = 0.4\n",
    "\n",
    "model = Sequential()\n",
    "model.add(Dense(n_hidden, input_dim=n_in))\n",
    "model.add(Dropout(dropout_rate))\n",
    "model.add(Activation('relu'))\n",
    "\n",
    "model.add(Dense(n_hidden))\n",
    "model.add(Dropout(dropout_rate))\n",
    "model.add(Activation('relu'))\n",
    "\n",
    "model.add(Dense(n_hidden))\n",
    "model.add(Dropout(dropout_rate))\n",
    "model.add(Activation('relu'))\n",
    "\n",
    "model.add(Dense(n_hidden))\n",
    "model.add(Dropout(dropout_rate))\n",
    "model.add(Activation('relu'))\n",
    "\n",
    "model.add(Dense(n_out))\n",
    "model.add(Activation('softmax'))\n",
    "\n",
    "model.summary()\n",
    "\n",
    "# model.compile(loss='categorical_crossentropy',\n",
    "#               optimizer=SGD(lr=1),\n",
    "#               metrics=['accuracy'])\n",
    "\n",
    "model.compile(\n",
    "    loss='categorical_crossentropy',\n",
    "    optimizer=Adam(lr=0.001, beta_1=0.9, beta_2=0.999),\n",
    "    metrics=['accuracy'])\n",
    "\n",
    "es = EarlyStopping(monitor='val_loss', patience=2)\n",
    "csv_logger = CSVLogger('training.log')\n",
    "epochs = 50\n",
    "batch_size = 50\n",
    "\n",
    "hist = model.fit(\n",
    "    x_train,\n",
    "    y_train,\n",
    "    batch_size=batch_size,\n",
    "    epochs=epochs,\n",
    "    verbose=1,\n",
    "    validation_split=0.1)\n",
    "\n",
    "#,                  callbacks=[es, csv_logger]\n",
    "\n",
    "# evaluate model\n",
    "score = model.evaluate(x_test, y_test, verbose=0)\n",
    "print('test loss:', score[0])\n",
    "print('test acc:', score[1])\n",
    "\n",
    "# plot results\n",
    "acc = hist.history['acc']\n",
    "val_acc = hist.history['val_acc']\n",
    "\n",
    "epochs = len(acc)\n",
    "plt.plot(range(epochs), acc, marker='.', label='acc')\n",
    "plt.plot(range(epochs), val_acc, marker='.', label='val_acc')\n",
    "plt.legend(loc='best')\n",
    "plt.grid()\n",
    "plt.xlabel('epoch')\n",
    "plt.ylabel('acc')\n",
    "plt.show()"
   ]
  },
  {
   "cell_type": "code",
   "execution_count": null,
   "metadata": {
    "collapsed": true
   },
   "outputs": [],
   "source": [
    "# Not shuffle words\n",
    "\n",
    "texts = texts2list(df['AETERM'])\n",
    "x_all, nonull = texts2wv(texts)\n",
    "y_all = np.asarray(\n",
    "    [coder[df['AEDECOD'][i]] for i in range(0, len(df['AEDECOD']))])\n",
    "y_all = to_categorical(y_all)\n",
    "target = df['target']"
   ]
  },
  {
   "cell_type": "code",
   "execution_count": null,
   "metadata": {
    "collapsed": true
   },
   "outputs": [],
   "source": [
    "from keras.layers.wrappers import Bidirectional\n",
    "from keras.layers import SimpleRNN\n",
    "from keras.optimizers import Adam\n",
    "\n",
    "n_hidden = 200\n",
    "n_out = len(y_all[0])\n",
    "\n",
    "\n",
    "def split_data(x, y, target):\n",
    "    x_train = x[target == 1]\n",
    "    x_test = x[target == 0]\n",
    "    y_train = y[target == 1]\n",
    "    y_test = y[target == 0]\n",
    "    return x_train, x_test, y_train, y_test\n",
    "\n",
    "\n",
    "x_train, x_test, y_train, y_test = split_data(x_all, y_all, target)\n",
    "\n",
    "x_train = x_train.reshape(len(x_train), MAX_WORDS, wvsize)\n",
    "x_test = x_test.reshape(len(x_test), MAX_WORDS, wvsize)\n",
    "\n",
    "print(\"length of y_all=\", n_out)\n",
    "print(\"x_all.shape=, y_all.shape=\", x_all.shape, y_all.shape)\n",
    "print(\"x_train.shape=\", x_train.shape)\n",
    "\n",
    "\n",
    "def weight_variable(shape, name=None):\n",
    "    return np.random.normal(scale=.01, size=shape)\n",
    "\n",
    "\n",
    "model = Sequential()\n",
    "model.add(Bidirectional(SimpleRNN(n_hidden), input_shape=(MAX_WORDS, wvsize)))\n",
    "model.add(Dense(n_out, init=weight_variable))\n",
    "model.add(Activation('softmax'))\n",
    "\n",
    "# model = Sequential()\n",
    "# model.add(Bidirectional(LSTM(n_hidden),\n",
    "#                         input_shape=(MAX_WORDS, wvsize)))\n",
    "# model.add(Dense(n_out, init=weight_variable))\n",
    "# model.add(Activation('softmax'))\n",
    "\n",
    "# model.compile(loss='categorical_crossentropy',\n",
    "#               optimizer=Adam(lr=0.001, beta_1=0.9, beta_2=0.999),\n",
    "#               metrics=['accuracy'])\n",
    "\n",
    "model.compile(\n",
    "    loss='categorical_crossentropy', optimizer=SGD(lr=1), metrics=['accuracy'])\n",
    "\n",
    "model.summary()\n",
    "\n",
    "es = EarlyStopping(monitor='val_loss', patience=2)\n",
    "csv_logger = CSVLogger('training.log')\n",
    "epochs = 100\n",
    "batch_size = 100\n",
    "\n",
    "hist = model.fit(\n",
    "    x_train,\n",
    "    y_train,\n",
    "    batch_size=batch_size,\n",
    "    epochs=epochs,\n",
    "    verbose=0,\n",
    "    validation_split=0.1)\n",
    "\n",
    "# plot results\n",
    "acc = hist.history['acc']\n",
    "val_acc = hist.history['val_acc']\n",
    "\n",
    "epochs = len(acc)\n",
    "plt.plot(range(epochs), acc, marker='.', label='acc')\n",
    "plt.plot(range(epochs), val_acc, marker='.', label='val_acc')\n",
    "plt.legend(loc='best')\n",
    "plt.grid()\n",
    "plt.xlabel('epoch')\n",
    "plt.ylabel('acc')\n",
    "plt.show()\n",
    "\n",
    "score = model.evaluate(x_test, y_test, verbose=0)\n",
    "print('test loss:', score[0])\n",
    "print('test acc:', score[1])"
   ]
  },
  {
   "cell_type": "code",
   "execution_count": null,
   "metadata": {
    "collapsed": true
   },
   "outputs": [],
   "source": [
    "n_in = len(x_all[0])\n",
    "n_hidden = 400\n",
    "n_out = len(y_all[0])\n",
    "print(n_in, n_out)\n",
    "print(x_all.shape, y_all.shape)\n",
    "\n",
    "\n",
    "def split_data(x, y, target):\n",
    "    x_train = x[target == 1]\n",
    "    x_test = x[target == 0]\n",
    "    y_train = y[target == 1]\n",
    "    y_test = y[target == 0]\n",
    "    return x_train, x_test, y_train, y_test\n",
    "\n",
    "\n",
    "x_train, x_test, y_train, y_test = split_data(x_all, y_all, target)\n",
    "#x_train, x_test, y_train, y_test = train_test_split(x_all, y_all, test_size=0.2, random_state=0)\n",
    "\n",
    "model = Sequential()\n",
    "model.add(Dense(n_hidden, input_dim=n_in))\n",
    "#model.add(Dropout(0.2))\n",
    "model.add(Activation('relu'))\n",
    "\n",
    "model.add(Dense(n_hidden))\n",
    "#model.add(Dropout(0.2))\n",
    "model.add(Activation('relu'))\n",
    "\n",
    "model.add(Dense(n_hidden))\n",
    "#model.add(Dropout(0.2))\n",
    "model.add(Activation('relu'))\n",
    "\n",
    "model.add(Dense(n_hidden))\n",
    "#model.add(Dropout(0.2))\n",
    "model.add(Activation('relu'))\n",
    "\n",
    "model.add(Dense(n_hidden))\n",
    "#model.add(Dropout(0.2))\n",
    "model.add(Activation('relu'))\n",
    "\n",
    "model.add(Dense(n_hidden))\n",
    "#model.add(Dropout(0.2))\n",
    "model.add(Activation('relu'))\n",
    "\n",
    "model.add(Dense(n_hidden))\n",
    "#model.add(Dropout(0.2))\n",
    "model.add(Activation('relu'))\n",
    "\n",
    "model.add(Dense(n_out))\n",
    "model.add(Activation('softmax'))\n",
    "\n",
    "model.summary()\n",
    "\n",
    "# model.compile(loss='categorical_crossentropy',\n",
    "#               optimizer=SGD(lr=1),\n",
    "#               metrics=['accuracy'])\n",
    "\n",
    "model.compile(\n",
    "    loss='categorical_crossentropy',\n",
    "    optimizer=Adam(lr=0.001, beta_1=0.9, beta_2=0.999),\n",
    "    metrics=['accuracy'])\n",
    "\n",
    "es = EarlyStopping(monitor='val_loss', patience=2)\n",
    "csv_logger = CSVLogger('training.log')\n",
    "epochs = 100\n",
    "batch_size = 100\n",
    "\n",
    "hist = model.fit(\n",
    "    x_train,\n",
    "    y_train,\n",
    "    batch_size=batch_size,\n",
    "    epochs=epochs,\n",
    "    verbose=0,\n",
    "    validation_split=0.1)\n",
    "\n",
    "#,                  callbacks=[es, csv_logger]\n",
    "\n",
    "# evaluate model\n",
    "score = model.evaluate(x_test, y_test, verbose=0)\n",
    "print('test loss:', score[0])\n",
    "print('test acc:', score[1])\n",
    "\n",
    "# plot results\n",
    "acc = hist.history['acc']\n",
    "val_acc = hist.history['val_acc']\n",
    "\n",
    "epochs = len(acc)\n",
    "plt.plot(range(epochs), acc, marker='.', label='acc')\n",
    "plt.plot(range(epochs), val_acc, marker='.', label='val_acc')\n",
    "plt.legend(loc='best')\n",
    "plt.grid()\n",
    "plt.xlabel('epoch')\n",
    "plt.ylabel('acc')\n",
    "plt.show()"
   ]
  },
  {
   "cell_type": "code",
   "execution_count": null,
   "metadata": {
    "collapsed": true
   },
   "outputs": [],
   "source": [
    "y_predict = model.predict(x_test)\n",
    "\n",
    "y_test_decode = [decoder[i] for i in np.where(y_test == 1)[1]]\n",
    "y_predict_decode = [decoder[i] for i in y_predict.argmax(axis=1)]\n",
    "y_decode = pd.DataFrame(\n",
    "    np.array([y_test_decode, y_predict_decode]).T, columns=['test', 'predict'])\n",
    "\n",
    "#print(y_decode[0:10])\n",
    "dfx = df[df[\"target\"] == 0].reset_index(drop=True, inplace=False)\n",
    "result = pd.concat([dfx, y_decode], axis=1)\n",
    "result['judge'] = result['AEDECOD'] == result['predict']\n",
    "result['check'] = result['AEDECOD'] == result['test']\n",
    "#result['check'].sum()\n",
    "accuracy = 100 * result['judge'].sum() / len(result)\n",
    "print('Accuracy: %.2f' % accuracy)\n",
    "summary = result.groupby('len').sum()\n",
    "summary['Acurracy'] = 100 * summary['judge'] / summary['check']\n",
    "summary"
   ]
  },
  {
   "cell_type": "code",
   "execution_count": null,
   "metadata": {
    "collapsed": true
   },
   "outputs": [],
   "source": [
    "from sklearn.svm import SVC\n",
    "model = SVC(kernel='linear', random_state=None)\n",
    "#from sklearn.linear_model import LogisticRegression\n",
    "#model = LogisticRegression(random_state=None)\n",
    "y_train_cat = np.where(y_train == 1)[1]\n",
    "y_test_cat = np.where(y_test == 1)[1]\n",
    "model.fit(x_train, y_train_cat)\n",
    "\n",
    "from sklearn.metrics import accuracy_score\n",
    "pred_train = model.predict(x_train)\n",
    "accuracy_train = accuracy_score(y_train_cat, pred_train)\n",
    "print('SVM training accuracy: %.2f' % accuracy_train)\n",
    "\n",
    "pred_test = model.predict(x_test)\n",
    "accuracy_test = accuracy_score(y_test_cat, pred_test)\n",
    "print('SVMtest accuracy: %.2f' % accuracy_test)"
   ]
  },
  {
   "cell_type": "code",
   "execution_count": null,
   "metadata": {
    "collapsed": true
   },
   "outputs": [],
   "source": [
    "from sklearn.ensemble import RandomForestClassifier\n",
    "from sklearn.ensemble import GradientBoostingClassifier\n",
    "from sklearn.metrics import f1_score\n",
    "\n",
    "forest = RandomForestClassifier(min_samples_leaf=3, random_state=0)\n",
    "forest.fit(x_train, y_train)\n",
    "\n",
    "pred_train = model.predict(x_train)\n",
    "accuracy_train = accuracy_score(y_train_cat, pred_train)\n",
    "print('RF training accuracy: %.2f' % accuracy_train)\n",
    "\n",
    "pred_test = model.predict(x_test)\n",
    "accuracy_test = accuracy_score(y_test_cat, pred_test)\n",
    "print('RF test accuracy: %.2f' % accuracy_test)"
   ]
  },
  {
   "cell_type": "code",
   "execution_count": null,
   "metadata": {
    "collapsed": true
   },
   "outputs": [],
   "source": [
    "y_train_decode = [decoder[i] for i in np.where(y_train == 1)[1]]"
   ]
  },
  {
   "cell_type": "code",
   "execution_count": null,
   "metadata": {
    "collapsed": false
   },
   "outputs": [],
   "source": [
    "model.save('./data/model.h5')"
   ]
  },
  {
   "cell_type": "code",
   "execution_count": null,
   "metadata": {
    "collapsed": true
   },
   "outputs": [],
   "source": [
    "intexts = texts2list([\"Vomit a food\", \"low back pain\"])\n",
    "x_in, nonull = texts2wv(intexts)\n",
    "y_predict = model.predict(x_in)\n",
    "decoder = dict([(pt, index) for index, pt in coder.items()])"
   ]
  },
  {
   "cell_type": "code",
   "execution_count": null,
   "metadata": {
    "collapsed": true
   },
   "outputs": [],
   "source": [
    "index = y_predict.argmax(axis=1)"
   ]
  },
  {
   "cell_type": "code",
   "execution_count": null,
   "metadata": {
    "collapsed": true
   },
   "outputs": [],
   "source": [
    "decoder[index[0]]"
   ]
  },
  {
   "cell_type": "code",
   "execution_count": null,
   "metadata": {
    "collapsed": true
   },
   "outputs": [],
   "source": [
    "y_predict.argmax(axis=1)"
   ]
  },
  {
   "cell_type": "code",
   "execution_count": null,
   "metadata": {
    "collapsed": true
   },
   "outputs": [],
   "source": [
    "from keras.preprocessing.text import Tokenizer\n",
    "import numpy as np\n",
    "from gensim.models import Word2Vec, KeyedVectors\n",
    "from keras.preprocessing.sequence import pad_sequences\n",
    "from keras.preprocessing.text import Tokenizer\n",
    "from itertools import chain\n",
    "import pandas as pd\n",
    "\n",
    "wikimodel = Word2Vec.load(\"./data/wiki.en.word2vec.model100\")\n",
    "#wikimodel = KeyedVectors.load_word2vec_format(\"./data/test.model\",binary=False)\n",
    "#with open('/home/yo/PycharmProjects/coding/data/test.model','rb') as f:\n",
    "#    wikimodel = pickle.load(f)\n",
    "\n",
    "wvsize = wikimodel.vector_size\n",
    "MAX_WORDS = 5\n",
    "\n",
    "\n",
    "def is_ascii(string):\n",
    "    \"\"\"return true if non ascii characters are detected in the given string\n",
    "    \"\"\"\n",
    "    if string:\n",
    "        return max([ord(char) for char in string]) < 128\n",
    "    return True\n",
    "\n",
    "\n",
    "def texts2list(texts):\n",
    "    stop_words = set('for a of the and to in by with'.split())\n",
    "    if type(texts) == list:\n",
    "        texts = pd.Series(texts)\n",
    "    texts = texts.str.lower().str.translate(str.maketrans('()', '  '))\n",
    "    texts = texts.str.strip()\n",
    "    textlist = [[\n",
    "        word for word in document.translate(\n",
    "            str.maketrans('\\'()[],.&?\"{}-_:;', '                ')).split()\n",
    "        if word not in stop_words\n",
    "    ] for document in texts]\n",
    "    return textlist\n",
    "\n",
    "\n",
    "def texts2wv(texts):\n",
    "    dictset = list(set(chain.from_iterable(texts)))\n",
    "    wvdict = dict([(dic, wikimodel[dic]) for dic in dictset\n",
    "                   if dic in wikimodel.wv.vocab])\n",
    "    wvsize = wikimodel.vector_size\n",
    "    wv = [\n",
    "        np.array([wvdict[word] for word in text if word in wvdict.keys()])\n",
    "        for text in texts\n",
    "    ]\n",
    "    nonull = [len(vector) for vector in wv]\n",
    "    x = [\n",
    "        np.array([\n",
    "            wvdict[word] for (i, word) in enumerate(text)\n",
    "            if word in wvdict.keys()\n",
    "        ]) for text in texts\n",
    "    ]\n",
    "    x_norm = [x[i][0:MAX_WORDS] for i in range(len(x))]\n",
    "    x_all = np.array([\n",
    "        np.append(x_norm[i].flat,\n",
    "                  np.zeros(wvsize * max(MAX_WORDS - len(x_norm[i]), 0)))\n",
    "        for i in range(len(x_norm))\n",
    "    ])\n",
    "    return x_all, nonull\n",
    "\n",
    "\n",
    "from keras.models import load_model\n",
    "model = load_model('./data/model.h5')\n",
    "\n",
    "import pickle\n",
    "import os\n",
    "with open(os.path.join('.', 'data', 'coder.pkl'), 'rb') as f:\n",
    "    coder = pickle.load(f)"
   ]
  },
  {
   "cell_type": "code",
   "execution_count": null,
   "metadata": {
    "collapsed": true
   },
   "outputs": [],
   "source": [
    "y_predict[1]"
   ]
  },
  {
   "cell_type": "code",
   "execution_count": null,
   "metadata": {
    "collapsed": true
   },
   "outputs": [],
   "source": [
    "print(intexts)\n",
    "print(x_in)\n",
    "print(nonnull)\n",
    "print(y_predict)\n",
    "print(index)\n",
    "print(pt)\n"
   ]
  },
  {
   "cell_type": "code",
   "execution_count": null,
   "metadata": {
    "collapsed": true
   },
   "outputs": [],
   "source": [
    "wvsize"
   ]
  },
  {
   "cell_type": "code",
   "execution_count": null,
   "metadata": {
    "collapsed": true
   },
   "outputs": [],
   "source": [
    "try:\n",
    "    import cPickle as pickle\n",
    "except:\n",
    "    import pickle\n",
    "\n",
    "with open('/home/yo/PycharmProjects/coding/data/wikimodel', 'wb') as f:\n",
    "    pickle.dump(wikimodel, f)\n",
    "f.closed\n",
    "\n",
    "#wikimodel.save('/home/yo/PycharmProjects/coding/data/test.model',sep_limit=100*1024**2)"
   ]
  },
  {
   "cell_type": "code",
   "execution_count": null,
   "metadata": {
    "collapsed": true
   },
   "outputs": [],
   "source": [
    "try:\n",
    "    import cPickle as pickle\n",
    "except:\n",
    "    import pickle\n",
    "\n",
    "with open('/home/yo/PycharmProjects/coding/data/test.model', 'rb') as f:\n",
    "    wikimodel = pickle.load(f)\n",
    "\n",
    "#wvsize = wikimodel.vector_size\n",
    "\n",
    "wikimodel.vector_size"
   ]
  },
  {
   "cell_type": "code",
   "execution_count": null,
   "metadata": {
    "collapsed": true
   },
   "outputs": [],
   "source": [
    "with open('/home/yo/PycharmProjects/coding/data/test.model.bin',\n",
    "          'rb') as gcs_file:\n",
    "    test = gcs_file.read()\n",
    "from gensim.models import Word2Vec, KeyedVectors"
   ]
  }
 ],
 "metadata": {
  "anaconda-cloud": {},
  "kernelspec": {
   "display_name": "Python [conda root]",
   "language": "python",
   "name": "conda-root-py"
  },
  "language_info": {
   "codemirror_mode": {
    "name": "ipython",
    "version": 3
   },
   "file_extension": ".py",
   "mimetype": "text/x-python",
   "name": "python",
   "nbconvert_exporter": "python",
   "pygments_lexer": "ipython3",
   "version": "3.5.2"
  },
  "toc": {
   "base_numbering": 1.0,
   "nav_menu": {},
   "number_sections": true,
   "sideBar": true,
   "skip_h1_title": false,
   "title_cell": "Table of Contents",
   "title_sidebar": "Contents",
   "toc_cell": false,
   "toc_position": {},
   "toc_section_display": true,
   "toc_window_display": true
  },
  "varInspector": {
   "cols": {
    "lenName": 16.0,
    "lenType": 16.0,
    "lenVar": 40.0
   },
   "kernels_config": {
    "python": {
     "delete_cmd_postfix": "",
     "delete_cmd_prefix": "del ",
     "library": "var_list.py",
     "varRefreshCmd": "print(var_dic_list())"
    },
    "r": {
     "delete_cmd_postfix": ") ",
     "delete_cmd_prefix": "rm(",
     "library": "var_list.r",
     "varRefreshCmd": "cat(var_dic_list()) "
    }
   },
   "types_to_exclude": [
    "module",
    "function",
    "builtin_function_or_method",
    "instance",
    "_Feature"
   ],
   "window_display": false
  }
 },
 "nbformat": 4,
 "nbformat_minor": 0
}
